{
 "cells": [
  {
   "cell_type": "code",
   "execution_count": 1,
   "id": "e3d5fe4a-8e4c-4b52-8456-ae2116e1b1c9",
   "metadata": {},
   "outputs": [
    {
     "name": "stdout",
     "output_type": "stream",
     "text": [
      "Welcome to the Number Guessing Game!\n",
      "I'm thinking of a number between 1 and 100.\n",
      "You have 10 attempts to guess it correctly.\n",
      "\n"
     ]
    },
    {
     "name": "stdin",
     "output_type": "stream",
     "text": [
      "Attempt 1: Enter your guess:  18\n"
     ]
    },
    {
     "name": "stdout",
     "output_type": "stream",
     "text": [
      "Too low! Try a higher number.\n",
      "\n"
     ]
    },
    {
     "name": "stdin",
     "output_type": "stream",
     "text": [
      "Attempt 2: Enter your guess:  47\n"
     ]
    },
    {
     "name": "stdout",
     "output_type": "stream",
     "text": [
      "Too low! Try a higher number.\n",
      "\n"
     ]
    },
    {
     "name": "stdin",
     "output_type": "stream",
     "text": [
      "Attempt 3: Enter your guess:  72\n"
     ]
    },
    {
     "name": "stdout",
     "output_type": "stream",
     "text": [
      "Too low! Try a higher number.\n",
      "\n"
     ]
    },
    {
     "name": "stdin",
     "output_type": "stream",
     "text": [
      "Attempt 4: Enter your guess:  80\n"
     ]
    },
    {
     "name": "stdout",
     "output_type": "stream",
     "text": [
      "Too low! Try a higher number.\n",
      "\n"
     ]
    },
    {
     "name": "stdin",
     "output_type": "stream",
     "text": [
      "Attempt 5: Enter your guess:  93\n"
     ]
    },
    {
     "name": "stdout",
     "output_type": "stream",
     "text": [
      "Too high! Try a lower number.\n",
      "\n"
     ]
    },
    {
     "name": "stdin",
     "output_type": "stream",
     "text": [
      "Attempt 6: Enter your guess:  88\n"
     ]
    },
    {
     "name": "stdout",
     "output_type": "stream",
     "text": [
      "Too high! Try a lower number.\n",
      "\n"
     ]
    },
    {
     "name": "stdin",
     "output_type": "stream",
     "text": [
      "Attempt 7: Enter your guess:  85\n"
     ]
    },
    {
     "name": "stdout",
     "output_type": "stream",
     "text": [
      "Congratulations! You guessed the number in 7 attempts.\n"
     ]
    }
   ],
   "source": [
    "import random\n",
    "\n",
    "def number_guessing_game():\n",
    "    number_to_guess = random.randint(1, 100)\n",
    "    max_attempts = 10\n",
    "    attempts = 0\n",
    "\n",
    "    print(\"Welcome to the Number Guessing Game!\")\n",
    "    print(\"I'm thinking of a number between 1 and 100.\")\n",
    "    print(f\"You have {max_attempts} attempts to guess it correctly.\\n\")\n",
    "\n",
    "    while attempts < max_attempts:\n",
    "        try:\n",
    "            guess = int(input(f\"Attempt {attempts + 1}: Enter your guess: \"))\n",
    "        except ValueError:\n",
    "            print(\"Invalid input! Please enter a number between 1 and 100.\\n\")\n",
    "            continue\n",
    "\n",
    "        if guess < 1 or guess > 100:\n",
    "            print(\"Your guess is out of range! Try a number between 1 and 100.\\n\")\n",
    "            continue\n",
    "\n",
    "        attempts += 1\n",
    "\n",
    "        if guess == number_to_guess:\n",
    "            print(f\"Congratulations! You guessed the number in {attempts} attempts.\")\n",
    "            break\n",
    "        elif guess < number_to_guess:\n",
    "            print(\"Too low! Try a higher number.\\n\")\n",
    "        else:\n",
    "            print(\"Too high! Try a lower number.\\n\")\n",
    "\n",
    "    else:\n",
    "        print(f\"❌ Game Over! The number was {number_to_guess}.\")\n",
    "\n",
    "# Run the game\n",
    "number_guessing_game()\n"
   ]
  },
  {
   "cell_type": "code",
   "execution_count": null,
   "id": "f6ba4924-756b-4993-b5c6-c62ef14859d0",
   "metadata": {},
   "outputs": [],
   "source": []
  }
 ],
 "metadata": {
  "kernelspec": {
   "display_name": "Python 3 (ipykernel)",
   "language": "python",
   "name": "python3"
  },
  "language_info": {
   "codemirror_mode": {
    "name": "ipython",
    "version": 3
   },
   "file_extension": ".py",
   "mimetype": "text/x-python",
   "name": "python",
   "nbconvert_exporter": "python",
   "pygments_lexer": "ipython3",
   "version": "3.11.5"
  }
 },
 "nbformat": 4,
 "nbformat_minor": 5
}
